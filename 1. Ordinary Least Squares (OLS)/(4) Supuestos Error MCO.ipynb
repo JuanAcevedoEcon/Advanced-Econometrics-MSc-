{
 "cells": [
  {
   "cell_type": "markdown",
   "metadata": {
    "id": "CAH3omKoY3wm"
   },
   "source": [
    "**Otras formas de analizar el supuesto de la clase pasada (linealidad y cambio estructural)**"
   ]
  },
  {
   "cell_type": "code",
   "execution_count": 1,
   "metadata": {
    "id": "OjdYAsKtY3wp"
   },
   "outputs": [],
   "source": [
    "import numpy as np\n",
    "import pandas as pd\n",
    "import statsmodels.api as sm\n",
    "import matplotlib.pyplot as plt\n",
    "import seaborn as sns\n",
    "import statsmodels.stats.api as sms"
   ]
  },
  {
   "cell_type": "code",
   "execution_count": 2,
   "metadata": {
    "id": "LahlC5hYY3wq"
   },
   "outputs": [
    {
     "data": {
      "text/html": [
       "<div>\n",
       "<style scoped>\n",
       "    .dataframe tbody tr th:only-of-type {\n",
       "        vertical-align: middle;\n",
       "    }\n",
       "\n",
       "    .dataframe tbody tr th {\n",
       "        vertical-align: top;\n",
       "    }\n",
       "\n",
       "    .dataframe thead th {\n",
       "        text-align: right;\n",
       "    }\n",
       "</style>\n",
       "<table border=\"1\" class=\"dataframe\">\n",
       "  <thead>\n",
       "    <tr style=\"text-align: right;\">\n",
       "      <th></th>\n",
       "      <th>CM</th>\n",
       "      <th>FLR</th>\n",
       "      <th>PGNP</th>\n",
       "      <th>TFR</th>\n",
       "    </tr>\n",
       "  </thead>\n",
       "  <tbody>\n",
       "    <tr>\n",
       "      <th>0</th>\n",
       "      <td>128</td>\n",
       "      <td>37</td>\n",
       "      <td>1870</td>\n",
       "      <td>6.66</td>\n",
       "    </tr>\n",
       "    <tr>\n",
       "      <th>1</th>\n",
       "      <td>204</td>\n",
       "      <td>22</td>\n",
       "      <td>130</td>\n",
       "      <td>6.15</td>\n",
       "    </tr>\n",
       "    <tr>\n",
       "      <th>2</th>\n",
       "      <td>202</td>\n",
       "      <td>16</td>\n",
       "      <td>310</td>\n",
       "      <td>7.00</td>\n",
       "    </tr>\n",
       "    <tr>\n",
       "      <th>3</th>\n",
       "      <td>197</td>\n",
       "      <td>65</td>\n",
       "      <td>570</td>\n",
       "      <td>6.25</td>\n",
       "    </tr>\n",
       "    <tr>\n",
       "      <th>4</th>\n",
       "      <td>96</td>\n",
       "      <td>76</td>\n",
       "      <td>2050</td>\n",
       "      <td>3.81</td>\n",
       "    </tr>\n",
       "  </tbody>\n",
       "</table>\n",
       "</div>"
      ],
      "text/plain": [
       "    CM  FLR  PGNP   TFR\n",
       "0  128   37  1870  6.66\n",
       "1  204   22   130  6.15\n",
       "2  202   16   310  7.00\n",
       "3  197   65   570  6.25\n",
       "4   96   76  2050  3.81"
      ]
     },
     "execution_count": 2,
     "metadata": {},
     "output_type": "execute_result"
    }
   ],
   "source": [
    "data=pd.read_csv(r\"C:\\Users\\57317\\Desktop\\Universidad Nacional\\Programación\\Python\\Curso Econometría Avanzada (MSc)\\Bases de datos\\GujaratiPorter71.txt\", delimiter=\"\\t\")\n",
    "data.head()"
   ]
  },
  {
   "cell_type": "code",
   "execution_count": 3,
   "metadata": {
    "id": "Wa9vkLDZY3wr"
   },
   "outputs": [
    {
     "name": "stdout",
     "output_type": "stream",
     "text": [
      "                            OLS Regression Results                            \n",
      "==============================================================================\n",
      "Dep. Variable:                     CM   R-squared:                       0.747\n",
      "Model:                            OLS   Adj. R-squared:                  0.735\n",
      "Method:                 Least Squares   F-statistic:                     59.17\n",
      "Date:                Sat, 29 Apr 2023   Prob (F-statistic):           6.46e-18\n",
      "Time:                        10:22:36   Log-Likelihood:                -323.43\n",
      "No. Observations:                  64   AIC:                             654.9\n",
      "Df Residuals:                      60   BIC:                             663.5\n",
      "Df Model:                           3                                         \n",
      "Covariance Type:            nonrobust                                         \n",
      "==============================================================================\n",
      "                 coef    std err          t      P>|t|      [0.025      0.975]\n",
      "------------------------------------------------------------------------------\n",
      "const        168.3067     32.892      5.117      0.000     102.514     234.100\n",
      "PGNP          -0.0055      0.002     -2.934      0.005      -0.009      -0.002\n",
      "FLR           -1.7680      0.248     -7.129      0.000      -2.264      -1.272\n",
      "TFR           12.8686      4.191      3.071      0.003       4.486      21.251\n",
      "==============================================================================\n",
      "Omnibus:                        1.103   Durbin-Watson:                   2.170\n",
      "Prob(Omnibus):                  0.576   Jarque-Bera (JB):                0.509\n",
      "Skew:                           0.145   Prob(JB):                        0.775\n",
      "Kurtosis:                       3.327   Cond. No.                     2.06e+04\n",
      "==============================================================================\n",
      "\n",
      "Notes:\n",
      "[1] Standard Errors assume that the covariance matrix of the errors is correctly specified.\n",
      "[2] The condition number is large, 2.06e+04. This might indicate that there are\n",
      "strong multicollinearity or other numerical problems.\n"
     ]
    }
   ],
   "source": [
    "modelo=sm.OLS(data[\"CM\"],sm.add_constant(data[[\"PGNP\",\"FLR\", \"TFR\"]]))\n",
    "resultados=modelo.fit()\n",
    "print(resultados.summary())"
   ]
  },
  {
   "cell_type": "markdown",
   "metadata": {
    "id": "85EdNOYsY3ws"
   },
   "source": [
    "**Supuesto de Cambio Estructural**"
   ]
  },
  {
   "cell_type": "code",
   "execution_count": 4,
   "metadata": {
    "id": "0KmQjKwMY3ws"
   },
   "outputs": [],
   "source": [
    "residuos= resultados.resid\n",
    "\n",
    "cambio_estructural = sms.breaks_cusumolsresid(residuos)\n",
    "nombres = [\"Estadístico\", \"P-valor\", \"Valores Críticos\"]"
   ]
  },
  {
   "cell_type": "code",
   "execution_count": 5,
   "metadata": {
    "id": "NIp0AHIrY3wt"
   },
   "outputs": [
    {
     "data": {
      "text/html": [
       "<div>\n",
       "<style scoped>\n",
       "    .dataframe tbody tr th:only-of-type {\n",
       "        vertical-align: middle;\n",
       "    }\n",
       "\n",
       "    .dataframe tbody tr th {\n",
       "        vertical-align: top;\n",
       "    }\n",
       "\n",
       "    .dataframe thead th {\n",
       "        text-align: right;\n",
       "    }\n",
       "</style>\n",
       "<table border=\"1\" class=\"dataframe\">\n",
       "  <thead>\n",
       "    <tr style=\"text-align: right;\">\n",
       "      <th></th>\n",
       "      <th>CUSUM</th>\n",
       "    </tr>\n",
       "  </thead>\n",
       "  <tbody>\n",
       "    <tr>\n",
       "      <th>Estadístico</th>\n",
       "      <td>0.403667</td>\n",
       "    </tr>\n",
       "    <tr>\n",
       "      <th>P-valor</th>\n",
       "      <td>0.996802</td>\n",
       "    </tr>\n",
       "    <tr>\n",
       "      <th>Valores Críticos</th>\n",
       "      <td>[(1, 1.63), (5, 1.36), (10, 1.22)]</td>\n",
       "    </tr>\n",
       "  </tbody>\n",
       "</table>\n",
       "</div>"
      ],
      "text/plain": [
       "                                               CUSUM\n",
       "Estadístico                                 0.403667\n",
       "P-valor                                     0.996802\n",
       "Valores Críticos  [(1, 1.63), (5, 1.36), (10, 1.22)]"
      ]
     },
     "execution_count": 5,
     "metadata": {},
     "output_type": "execute_result"
    }
   ],
   "source": [
    "pd.DataFrame({\"CUSUM\" : cambio_estructural}, index=nombres) #H0 = No hay cambio estructural"
   ]
  },
  {
   "cell_type": "code",
   "execution_count": 6,
   "metadata": {
    "id": "pydurjdEY3wt"
   },
   "outputs": [],
   "source": [
    "valores_estimados= resultados.predict()"
   ]
  },
  {
   "cell_type": "code",
   "execution_count": 7,
   "metadata": {
    "id": "ZB7abLVtY3wu"
   },
   "outputs": [
    {
     "data": {
      "image/png": "[encoded data removed]",
      "text/plain": [
       "<Figure size 432x288 with 1 Axes>"
      ]
     },
     "metadata": {
      "needs_background": "light"
     },
     "output_type": "display_data"
    }
   ],
   "source": [
    "fig,ax=plt.subplots()\n",
    "ax.scatter(valores_estimados,residuos,color = \"blue\")\n",
    "ax.set_xlabel(\"Valores estimados\")\n",
    "ax.set_ylabel(\"Residuos\")\n",
    "ax.set_title(\"Residuos vs Valores estimados\", fontsize = 20)\n",
    "ax.axhline(color = \"red\")\n",
    "plt.show()"
   ]
  },
  {
   "cell_type": "markdown",
   "metadata": {
    "id": "6Tkw7TREY3wu"
   },
   "source": [
    "**Supuesto de Linealidad**"
   ]
  },
  {
   "cell_type": "code",
   "execution_count": 8,
   "metadata": {
    "id": "v5YZmzVbY3wv"
   },
   "outputs": [
    {
     "data": {
      "text/plain": [
       "Estadistico   -0.306749\n",
       "p-valor        0.760097\n",
       "dtype: float64"
      ]
     },
     "execution_count": 8,
     "metadata": {},
     "output_type": "execute_result"
    }
   ],
   "source": [
    "resultados_linealidad = sms.linear_harvey_collier(resultados)\n",
    "nombres = [\"Estadistico\",\"p-valor\"]\n",
    "pd.Series(resultados_linealidad, index = nombres)\n",
    "\n",
    "# H0 = media 0 error"
   ]
  },
  {
   "cell_type": "code",
   "execution_count": 9,
   "metadata": {
    "id": "uslEqQZaY3wv"
   },
   "outputs": [
    {
     "data": {
      "text/html": [
       "<div>\n",
       "<style scoped>\n",
       "    .dataframe tbody tr th:only-of-type {\n",
       "        vertical-align: middle;\n",
       "    }\n",
       "\n",
       "    .dataframe tbody tr th {\n",
       "        vertical-align: top;\n",
       "    }\n",
       "\n",
       "    .dataframe thead th {\n",
       "        text-align: right;\n",
       "    }\n",
       "</style>\n",
       "<table border=\"1\" class=\"dataframe\">\n",
       "  <thead>\n",
       "    <tr style=\"text-align: right;\">\n",
       "      <th></th>\n",
       "      <th>Harvey-Collier</th>\n",
       "    </tr>\n",
       "  </thead>\n",
       "  <tbody>\n",
       "    <tr>\n",
       "      <th>Estadistico</th>\n",
       "      <td>-0.306749</td>\n",
       "    </tr>\n",
       "    <tr>\n",
       "      <th>p-valor</th>\n",
       "      <td>0.760097</td>\n",
       "    </tr>\n",
       "  </tbody>\n",
       "</table>\n",
       "</div>"
      ],
      "text/plain": [
       "             Harvey-Collier\n",
       "Estadistico       -0.306749\n",
       "p-valor            0.760097"
      ]
     },
     "execution_count": 9,
     "metadata": {},
     "output_type": "execute_result"
    }
   ],
   "source": [
    "pd.DataFrame(pd.Series(resultados_linealidad, index = nombres), columns = [\"Harvey-Collier\"])"
   ]
  },
  {
   "cell_type": "code",
   "execution_count": 10,
   "metadata": {
    "id": "EyPLZk-bY3ww"
   },
   "outputs": [
    {
     "data": {
      "text/html": [
       "<div>\n",
       "<style scoped>\n",
       "    .dataframe tbody tr th:only-of-type {\n",
       "        vertical-align: middle;\n",
       "    }\n",
       "\n",
       "    .dataframe tbody tr th {\n",
       "        vertical-align: top;\n",
       "    }\n",
       "\n",
       "    .dataframe thead th {\n",
       "        text-align: right;\n",
       "    }\n",
       "</style>\n",
       "<table border=\"1\" class=\"dataframe\">\n",
       "  <thead>\n",
       "    <tr style=\"text-align: right;\">\n",
       "      <th></th>\n",
       "      <th>Harvey-Collier</th>\n",
       "    </tr>\n",
       "  </thead>\n",
       "  <tbody>\n",
       "    <tr>\n",
       "      <th>Estadistico</th>\n",
       "      <td>-0.306749</td>\n",
       "    </tr>\n",
       "    <tr>\n",
       "      <th>p-valor</th>\n",
       "      <td>0.760097</td>\n",
       "    </tr>\n",
       "  </tbody>\n",
       "</table>\n",
       "</div>"
      ],
      "text/plain": [
       "             Harvey-Collier\n",
       "Estadistico       -0.306749\n",
       "p-valor            0.760097"
      ]
     },
     "execution_count": 10,
     "metadata": {},
     "output_type": "execute_result"
    }
   ],
   "source": [
    "# Otra forma de hacerlo es \n",
    "pd.DataFrame({\"Harvey-Collier\":resultados_linealidad}, index =nombres)"
   ]
  },
  {
   "cell_type": "code",
   "execution_count": 11,
   "metadata": {
    "id": "7aURfOSBY3ww"
   },
   "outputs": [],
   "source": [
    "resultados_rainbow= sms.linear_rainbow(resultados) "
   ]
  },
  {
   "cell_type": "code",
   "execution_count": 12,
   "metadata": {
    "id": "UZoTRrhCY3ww"
   },
   "outputs": [],
   "source": [
    "nombres = [\"Estadístico\",\"p-valor\"]"
   ]
  },
  {
   "cell_type": "code",
   "execution_count": 13,
   "metadata": {
    "id": "HiXBmpgCY3ww"
   },
   "outputs": [
    {
     "data": {
      "text/html": [
       "<div>\n",
       "<style scoped>\n",
       "    .dataframe tbody tr th:only-of-type {\n",
       "        vertical-align: middle;\n",
       "    }\n",
       "\n",
       "    .dataframe tbody tr th {\n",
       "        vertical-align: top;\n",
       "    }\n",
       "\n",
       "    .dataframe thead th {\n",
       "        text-align: right;\n",
       "    }\n",
       "</style>\n",
       "<table border=\"1\" class=\"dataframe\">\n",
       "  <thead>\n",
       "    <tr style=\"text-align: right;\">\n",
       "      <th></th>\n",
       "      <th>Rainbow</th>\n",
       "    </tr>\n",
       "  </thead>\n",
       "  <tbody>\n",
       "    <tr>\n",
       "      <th>Estadístico</th>\n",
       "      <td>0.627264</td>\n",
       "    </tr>\n",
       "    <tr>\n",
       "      <th>p-valor</th>\n",
       "      <td>0.898465</td>\n",
       "    </tr>\n",
       "  </tbody>\n",
       "</table>\n",
       "</div>"
      ],
      "text/plain": [
       "              Rainbow\n",
       "Estadístico  0.627264\n",
       "p-valor      0.898465"
      ]
     },
     "execution_count": 13,
     "metadata": {},
     "output_type": "execute_result"
    }
   ],
   "source": [
    "pd.DataFrame({\"Rainbow\":resultados_rainbow}, index = nombres)"
   ]
  },
  {
   "cell_type": "code",
   "execution_count": 14,
   "metadata": {
    "id": "hTAUtqIFY3wx"
   },
   "outputs": [
    {
     "data": {
      "text/plain": [
       "1.270095140171179e-13"
      ]
     },
     "execution_count": 14,
     "metadata": {},
     "output_type": "execute_result"
    }
   ],
   "source": [
    "np.mean(residuos)"
   ]
  },
  {
   "cell_type": "markdown",
   "metadata": {
    "id": "lzUrC6BnY3wx"
   },
   "source": [
    "**Supuesto 4: Homoscedasticidad**"
   ]
  },
  {
   "cell_type": "code",
   "execution_count": 15,
   "metadata": {
    "id": "Mb3dkiSaY3wx",
    "scrolled": true
   },
   "outputs": [
    {
     "data": {
      "image/png": "[encoded data removed]",
      "text/plain": [
       "<Figure size 432x288 with 1 Axes>"
      ]
     },
     "metadata": {
      "needs_background": "light"
     },
     "output_type": "display_data"
    }
   ],
   "source": [
    "fig, ax = plt.subplots()\n",
    "fig.suptitle(\"Residuos\")\n",
    "ax.plot(residuos) \n",
    "ax.set_xlabel(\"Observaciones\")\n",
    "ax.set_ylabel(\"Residuos\")\n",
    "plt.show()"
   ]
  },
  {
   "cell_type": "code",
   "execution_count": 16,
   "metadata": {
    "id": "AvDL5fBgY3wy"
   },
   "outputs": [
    {
     "data": {
      "text/plain": [
       "Estadístico LM    6.353684\n",
       "P-value LM        0.095615\n",
       "Estadístico F     2.204368\n",
       "P-value F         0.096831\n",
       "dtype: float64"
      ]
     },
     "execution_count": 16,
     "metadata": {},
     "output_type": "execute_result"
    }
   ],
   "source": [
    "explicativas = resultados.model.exog\n",
    "resultados_test = sms.het_breuschpagan(residuos, explicativas)\n",
    "nombres_test = [\"Estadístico LM\", \"P-value LM\", \"Estadístico F\", \"P-value F\"]\n",
    "pd.Series(resultados_test, nombres_test)"
   ]
  },
  {
   "cell_type": "code",
   "execution_count": 17,
   "metadata": {
    "id": "iBiHkJj0Y3wy"
   },
   "outputs": [
    {
     "data": {
      "text/html": [
       "<div>\n",
       "<style scoped>\n",
       "    .dataframe tbody tr th:only-of-type {\n",
       "        vertical-align: middle;\n",
       "    }\n",
       "\n",
       "    .dataframe tbody tr th {\n",
       "        vertical-align: top;\n",
       "    }\n",
       "\n",
       "    .dataframe thead th {\n",
       "        text-align: right;\n",
       "    }\n",
       "</style>\n",
       "<table border=\"1\" class=\"dataframe\">\n",
       "  <thead>\n",
       "    <tr style=\"text-align: right;\">\n",
       "      <th></th>\n",
       "      <th>Breush Pagan</th>\n",
       "    </tr>\n",
       "  </thead>\n",
       "  <tbody>\n",
       "    <tr>\n",
       "      <th>Estadístico LM</th>\n",
       "      <td>6.353684</td>\n",
       "    </tr>\n",
       "    <tr>\n",
       "      <th>P-value LM</th>\n",
       "      <td>0.095615</td>\n",
       "    </tr>\n",
       "    <tr>\n",
       "      <th>Estadístico F</th>\n",
       "      <td>2.204368</td>\n",
       "    </tr>\n",
       "    <tr>\n",
       "      <th>P-value F</th>\n",
       "      <td>0.096831</td>\n",
       "    </tr>\n",
       "  </tbody>\n",
       "</table>\n",
       "</div>"
      ],
      "text/plain": [
       "                Breush Pagan\n",
       "Estadístico LM      6.353684\n",
       "P-value LM          0.095615\n",
       "Estadístico F       2.204368\n",
       "P-value F           0.096831"
      ]
     },
     "execution_count": 17,
     "metadata": {},
     "output_type": "execute_result"
    }
   ],
   "source": [
    "pd.DataFrame({\"Breush Pagan\":resultados_test}, index = nombres_test)"
   ]
  },
  {
   "cell_type": "code",
   "execution_count": 18,
   "metadata": {
    "id": "BmQk6tZcY3wy"
   },
   "outputs": [
    {
     "data": {
      "text/html": [
       "<div>\n",
       "<style scoped>\n",
       "    .dataframe tbody tr th:only-of-type {\n",
       "        vertical-align: middle;\n",
       "    }\n",
       "\n",
       "    .dataframe tbody tr th {\n",
       "        vertical-align: top;\n",
       "    }\n",
       "\n",
       "    .dataframe thead th {\n",
       "        text-align: right;\n",
       "    }\n",
       "</style>\n",
       "<table border=\"1\" class=\"dataframe\">\n",
       "  <thead>\n",
       "    <tr style=\"text-align: right;\">\n",
       "      <th></th>\n",
       "      <th>BreushPagan</th>\n",
       "    </tr>\n",
       "  </thead>\n",
       "  <tbody>\n",
       "    <tr>\n",
       "      <th>Estadístico LM</th>\n",
       "      <td>6.353684</td>\n",
       "    </tr>\n",
       "    <tr>\n",
       "      <th>P-value LM</th>\n",
       "      <td>0.095615</td>\n",
       "    </tr>\n",
       "    <tr>\n",
       "      <th>Estadístico F</th>\n",
       "      <td>2.204368</td>\n",
       "    </tr>\n",
       "    <tr>\n",
       "      <th>P-value F</th>\n",
       "      <td>0.096831</td>\n",
       "    </tr>\n",
       "  </tbody>\n",
       "</table>\n",
       "</div>"
      ],
      "text/plain": [
       "                BreushPagan\n",
       "Estadístico LM     6.353684\n",
       "P-value LM         0.095615\n",
       "Estadístico F      2.204368\n",
       "P-value F          0.096831"
      ]
     },
     "execution_count": 18,
     "metadata": {},
     "output_type": "execute_result"
    }
   ],
   "source": [
    "pd.DataFrame(pd.Series(resultados_test, nombres_test), columns = [\"BreushPagan\"])"
   ]
  },
  {
   "cell_type": "code",
   "execution_count": 19,
   "metadata": {
    "id": "LWoqzenyY3wy"
   },
   "outputs": [
    {
     "data": {
      "text/plain": [
       "Estadístico LM    7.253524\n",
       "P-value LM        0.610742\n",
       "Estadístico F     0.766940\n",
       "P-value F         0.646936\n",
       "dtype: float64"
      ]
     },
     "execution_count": 19,
     "metadata": {},
     "output_type": "execute_result"
    }
   ],
   "source": [
    "test_white = sms.het_white(residuos,explicativas)\n",
    "nombres_test = [\"Estadístico LM\", \"P-value LM\", \"Estadístico F\", \"P-value F\"]\n",
    "pd.Series(test_white, index = nombres_test)"
   ]
  },
  {
   "cell_type": "markdown",
   "metadata": {
    "id": "LKEDG7uGY3wz"
   },
   "source": [
    "**Supuesto de No Autocorrelación**"
   ]
  },
  {
   "cell_type": "code",
   "execution_count": 20,
   "metadata": {
    "id": "v0wgZcRMY3wz"
   },
   "outputs": [
    {
     "data": {
      "text/plain": [
       "Estadístico DW    2.170318\n",
       "dtype: float64"
      ]
     },
     "execution_count": 20,
     "metadata": {},
     "output_type": "execute_result"
    }
   ],
   "source": [
    "test_dw = sms.durbin_watson(residuos)\n",
    "nombres_dw = [\"Estadístico DW\"]\n",
    "pd.Series(test_dw, nombres_dw) \n",
    "# Como test_dw > 1.96 entonces no hay evidenciaa estadística de que los términos de error están autocorrelacionad"
   ]
  },
  {
   "cell_type": "code",
   "execution_count": 21,
   "metadata": {
    "id": "FEO5G5xRY3wz"
   },
   "outputs": [
    {
     "data": {
      "text/plain": [
       "Estadístico LM    0.648268\n",
       "P-value LM        0.723153\n",
       "Estadístico F     0.296752\n",
       "P-value F         0.744350\n",
       "dtype: float64"
      ]
     },
     "execution_count": 21,
     "metadata": {},
     "output_type": "execute_result"
    }
   ],
   "source": [
    "test_breush = sms.acorr_breusch_godfrey(resultados, nlags=2)\n",
    "pd.Series(test_breush, index = nombres_test)"
   ]
  },
  {
   "cell_type": "code",
   "execution_count": 22,
   "metadata": {
    "id": "9WjeeuGPY3wz"
   },
   "outputs": [
    {
     "name": "stderr",
     "output_type": "stream",
     "text": [
      "C:\\Users\\57317\\anaconda3\\lib\\site-packages\\statsmodels\\stats\\diagnostic.py:559: FutureWarning: The value returned will change to a single DataFrame after 0.12 is released.  Set return_df to True to use to return a DataFrame now.  Set return_df to False to silence this warning.\n",
      "  warnings.warn(msg, FutureWarning)\n"
     ]
    },
    {
     "data": {
      "text/plain": [
       "(array([0.65657804]),\n",
       " array([0.41777063]),\n",
       " array([0.62673358]),\n",
       " array([0.42855599]))"
      ]
     },
     "execution_count": 22,
     "metadata": {},
     "output_type": "execute_result"
    }
   ],
   "source": [
    "test_jungbox= sms.acorr_ljungbox(residuos, lags=1, boxpierce=True)\n",
    "nombres_jungbox = [\"Estadístico LB\", \"p-value LB\", \"Estadístico BP\", \"p-value BP\"]\n",
    "test_jungbox"
   ]
  },
  {
   "cell_type": "markdown",
   "metadata": {
    "id": "OyCYI9SwY3w0"
   },
   "source": [
    "**Supuesto de normalidad**"
   ]
  },
  {
   "cell_type": "code",
   "execution_count": 23,
   "metadata": {
    "id": "CppAlmYJY3w0"
   },
   "outputs": [
    {
     "data": {
      "text/plain": [
       "JB           0.509408\n",
       "p-value      0.775146\n",
       "Asimetría    0.145068\n",
       "Curtosis     3.326877\n",
       "dtype: float64"
      ]
     },
     "execution_count": 23,
     "metadata": {},
     "output_type": "execute_result"
    }
   ],
   "source": [
    "test_jb= sms.jarque_bera(residuos)\n",
    "nombres_jb = [\"JB\", \"p-value\",\"Asimetría\",\"Curtosis\"]\n",
    "pd.Series(test_jb, index =nombres_jb) \n",
    "\n",
    "# Ho: normalidad"
   ]
  },
  {
   "cell_type": "code",
   "execution_count": 24,
   "metadata": {
    "id": "mawE9cB1Y3w0"
   },
   "outputs": [
    {
     "data": {
      "text/plain": [
       "AD            0.513998\n",
       "p-valor AD    0.185952\n",
       "dtype: float64"
      ]
     },
     "execution_count": 24,
     "metadata": {},
     "output_type": "execute_result"
    }
   ],
   "source": [
    "test_ad = sms.normal_ad(residuos)\n",
    "nombres_ad=[\"AD\",\"p-valor AD\"]\n",
    "pd.Series(test_ad, index = nombres_ad)\n",
    "\n",
    "# Ho: normalidad"
   ]
  },
  {
   "cell_type": "code",
   "execution_count": 25,
   "metadata": {
    "id": "dofAzOQuY3w0"
   },
   "outputs": [
    {
     "data": {
      "text/plain": [
       "KS            0.105760\n",
       "p-valor KS    0.096427\n",
       "dtype: float64"
      ]
     },
     "execution_count": 25,
     "metadata": {},
     "output_type": "execute_result"
    }
   ],
   "source": [
    "test_ks= sms.diagnostic.kstest_normal(residuos)\n",
    "nombres_ks = [\"KS\", \"p-valor KS\"]\n",
    "pd.Series(test_ks, index = nombres_ks)\n",
    "\n",
    "# Ho: normalidad"
   ]
  },
  {
   "cell_type": "code",
   "execution_count": 29,
   "metadata": {
    "id": "jcXYP7XLY3w1"
   },
   "outputs": [
    {
     "data": {
      "image/png": "[encoded data removed]",
      "text/plain": [
       "<Figure size 432x288 with 1 Axes>"
      ]
     },
     "metadata": {
      "needs_background": "light"
     },
     "output_type": "display_data"
    }
   ],
   "source": [
    "fig, ax = plt.subplots()\n",
    "probplot = sm.ProbPlot(residuos)\n",
    "probplot.qqplot(line = \"s\", ax = ax)\n",
    "ax.set_title(\"QQ Plot\", color = \"darkblue\");"
   ]
  },
  {
   "cell_type": "markdown",
   "metadata": {
    "id": "3_hNr4HlY3w1"
   },
   "source": [
    "**Funciones de Probabilidad (Acumulada)**"
   ]
  },
  {
   "cell_type": "code",
   "execution_count": 30,
   "metadata": {
    "id": "I4hBR43OY3w1"
   },
   "outputs": [],
   "source": [
    "x = np.sort(residuos)\n",
    "n = x.size\n",
    "y = np.arange(1, n+1) / n "
   ]
  },
  {
   "cell_type": "code",
   "execution_count": 34,
   "metadata": {
    "id": "cnOCqBncY3w1"
   },
   "outputs": [],
   "source": [
    "residuos_teoricos = np.random.normal(loc = np.mean(residuos),\n",
    "scale = np.std(residuos),\n",
    "size = 10000)"
   ]
  },
  {
   "cell_type": "code",
   "execution_count": 35,
   "metadata": {
    "id": "KjmsgMRpY3w1"
   },
   "outputs": [],
   "source": [
    "x_teor = np.sort(residuos_teoricos)\n",
    "n_teor = x_teor.size\n",
    "y_teor = np.arange(1, n_teor+1) / n_teor"
   ]
  },
  {
   "cell_type": "code",
   "execution_count": 36,
   "metadata": {
    "id": "iWyddScWY3w1"
   },
   "outputs": [
    {
     "data": {
      "image/png": "[encoded data removed]",
      "text/plain": [
       "<Figure size 432x288 with 1 Axes>"
      ]
     },
     "metadata": {
      "needs_background": "light"
     },
     "output_type": "display_data"
    }
   ],
   "source": [
    "fig, ax = plt.subplots()\n",
    "ax.plot(x_teor, y_teor, color = \"red\")\n",
    "ax.scatter(x, y, color = \"blue\")\n",
    "plt.show()"
   ]
  }
 ],
 "metadata": {
  "colab": {
   "collapsed_sections": [],
   "name": "(4) Supuestos Error MCO.ipynb",
   "provenance": []
  },
  "kernelspec": {
   "display_name": "Python 3",
   "language": "python",
   "name": "python3"
  },
  "language_info": {
   "codemirror_mode": {
    "name": "ipython",
    "version": 3
   },
   "file_extension": ".py",
   "mimetype": "text/x-python",
   "name": "python",
   "nbconvert_exporter": "python",
   "pygments_lexer": "ipython3",
   "version": "3.8.5"
  }
 },
 "nbformat": 4,
 "nbformat_minor": 1
}
